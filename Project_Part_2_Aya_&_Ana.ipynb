{
  "nbformat": 4,
  "nbformat_minor": 0,
  "metadata": {
    "colab": {
      "name": "Project Part 2 Aya & Ana.ipynb",
      "provenance": []
    },
    "kernelspec": {
      "name": "python3",
      "display_name": "Python 3"
    },
    "language_info": {
      "name": "python"
    }
  },
  "cells": [
    {
      "cell_type": "code",
      "execution_count": null,
      "metadata": {
        "id": "GXfF7ZNBiE6Q"
      },
      "outputs": [],
      "source": [
        "import sqlite3\n",
        "from sqlite3.dbapi2 import DatabaseError\n",
        "\n",
        "import pandas as pd\n",
        "from google.colab import drive\n",
        "drive.mount('/content/drive', force_remount=True)\n",
        "\n",
        "#df_participants=pd.read_excel('/content/drive/MyDrive/participants.xlsx')\n",
        "#df_countries=pd.read_excel('/content/drive/MyDrive/countries.xlsx')\n",
        "#df_projects=pd.read_excel('/content/drive/MyDrive/projects.xlsx')\n",
        "\n",
        "con= sqlite3.connect('exel_database.db')\n",
        "df_projects.to_sql('projects',con, if_exists='replace', index= False)\n",
        "df_countries.to_sql('countries',con, if_exists='replace', index= False)\n",
        "df_participants.to_sql('participants',con, if_exists='replace', index= False)\n",
        "\n",
        "con.close()\n",
        "df_projects.head()\n",
        "\n",
        "\n"
      ]
    },
    {
      "cell_type": "code",
      "source": [
        "database = exel_database.db\n",
        "selects= {\n",
        "'country':\n",
        "'''SELECT Acronym FROM countries WHERE Country = \"{}\" ''',\n",
        "\n",
        "'grants':\n",
        "'''SELECT SUM (O.ecContribution) AS grants\n",
        "  FROM organizations o JOIN projects p ON o.projectID==p.projectID\n",
        "  WHERE o.country = '{}'\n",
        "  GROUP BY p.year''',\n",
        "\n",
        "'participants':\n",
        "'''SELECT shortName, o.name, p.acronym, p.keywords\n",
        "  FROM organizations\n",
        "  WHERE country = '{}'\n",
        "  GROUP BY name ORDER BY SUM(ecContribution) DESC''',\n",
        "\n",
        "'coordinators':\n",
        "'''SELECT o.shortName"
      ],
      "metadata": {
        "id": "vXuVZnqVkXxP"
      },
      "execution_count": null,
      "outputs": []
    }
  ]
}